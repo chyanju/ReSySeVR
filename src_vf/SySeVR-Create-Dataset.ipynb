{
 "cells": [
  {
   "cell_type": "code",
   "execution_count": 1,
   "id": "e19b99b8-8e71-4e6d-a3f5-89f1720e0180",
   "metadata": {},
   "outputs": [
    {
     "data": {
      "text/plain": [
       "413462"
      ]
     },
     "metadata": {},
     "output_type": "display_data"
    }
   ],
   "source": [
    "import pickle\n",
    "from igraph import *\n",
    "\n",
    "with open(\"./SARD_ready/all_subgraphs_all_e3.pkl\", \"rb\") as f:\n",
    "    dt = pickle.load(f)\n",
    "\n",
    "display(len(dt))"
   ]
  },
  {
   "cell_type": "code",
   "execution_count": 2,
   "id": "dd8c48c1-58d4-46c5-a379-05892c35a239",
   "metadata": {},
   "outputs": [
    {
     "data": {
      "text/plain": [
       "(False, (<igraph.Graph at 0x7f8a58da54f0>, '411764'))"
      ]
     },
     "execution_count": 2,
     "metadata": {},
     "output_type": "execute_result"
    }
   ],
   "source": [
    "dt[0]"
   ]
  },
  {
   "cell_type": "code",
   "execution_count": 3,
   "id": "4910dd31-1dd6-485e-9ce5-61f0cb180e1a",
   "metadata": {},
   "outputs": [],
   "source": [
    "dlabel, (dgraph, dtarget) = dt[0]"
   ]
  },
  {
   "cell_type": "code",
   "execution_count": 4,
   "id": "9410030b-8ef7-4a7e-8c2c-337d78bf8b76",
   "metadata": {},
   "outputs": [
    {
     "data": {
      "text/plain": [
       "0"
      ]
     },
     "execution_count": 4,
     "metadata": {},
     "output_type": "execute_result"
    }
   ],
   "source": [
    "dgraph.vs['name'].index(dtarget)"
   ]
  },
  {
   "cell_type": "markdown",
   "id": "a78454fd-46a9-460b-b3e3-8cfefde169f3",
   "metadata": {},
   "source": [
    "### collect a vocabulary, and determine the max code length for every node"
   ]
  },
  {
   "cell_type": "code",
   "execution_count": 5,
   "id": "3a1f5b8c-f53f-4330-b9a0-5f81bf8530e2",
   "metadata": {},
   "outputs": [],
   "source": [
    "tmp_tokens = []\n",
    "tmp_lengths = []\n",
    "for p in dt:\n",
    "    dlabel, (dgraph, dtarget) = p\n",
    "    for q in dgraph.vs[\"code\"]:\n",
    "        tmp_tokens += q.split(\" \")\n",
    "        tmp_lengths.append(len(q.split(\" \")))"
   ]
  },
  {
   "cell_type": "code",
   "execution_count": 6,
   "id": "8ec7e97f-e8a3-4dbd-9ac3-292980e66dee",
   "metadata": {},
   "outputs": [
    {
     "data": {
      "text/plain": [
       "(23338272, 3402810)"
      ]
     },
     "execution_count": 6,
     "metadata": {},
     "output_type": "execute_result"
    }
   ],
   "source": [
    "len(tmp_tokens), len(tmp_lengths)"
   ]
  },
  {
   "cell_type": "code",
   "execution_count": 7,
   "id": "d803c9ab-3d8e-484b-9a57-2462f2c04acc",
   "metadata": {},
   "outputs": [],
   "source": [
    "from collections import Counter\n",
    "counter_tokens = Counter(tmp_tokens)\n",
    "counter_lengths = Counter(tmp_lengths)"
   ]
  },
  {
   "cell_type": "code",
   "execution_count": 8,
   "id": "b919df0d-3826-4bd2-90a4-572e4e3c2584",
   "metadata": {},
   "outputs": [
    {
     "data": {
      "text/plain": [
       "('CWE252_Unchecked_Return_Value__char_fputs_09_bad', 1)"
      ]
     },
     "execution_count": 8,
     "metadata": {},
     "output_type": "execute_result"
    }
   ],
   "source": [
    "counter_tokens.most_common()[-1]"
   ]
  },
  {
   "cell_type": "code",
   "execution_count": 9,
   "id": "07331370-a488-4eba-a139-3cf173a890d6",
   "metadata": {},
   "outputs": [
    {
     "data": {
      "text/plain": [
       "11742"
      ]
     },
     "execution_count": 9,
     "metadata": {},
     "output_type": "execute_result"
    }
   ],
   "source": [
    "token_vocab = []\n",
    "sorted_tokens = counter_tokens.most_common()\n",
    "for p in sorted_tokens:\n",
    "    # don't include CWE keywords\n",
    "    if \"CWE\" in p[0]:\n",
    "        continue\n",
    "    # frequency threshold\n",
    "    # potentially eliminate variable names\n",
    "    if p[1] <= 5:\n",
    "        continue\n",
    "    token_vocab.append(p[0])\n",
    "\n",
    "len(token_vocab)"
   ]
  },
  {
   "cell_type": "code",
   "execution_count": 10,
   "id": "fdad3262-09be-4551-8488-80a4c2afd7b5",
   "metadata": {},
   "outputs": [
    {
     "data": {
      "text/plain": [
       "['(',\n",
       " ')',\n",
       " '=',\n",
       " ',',\n",
       " '*',\n",
       " ';',\n",
       " ']',\n",
       " '[',\n",
       " 'data',\n",
       " 'char',\n",
       " '0',\n",
       " '1',\n",
       " 'numWritten',\n",
       " '->',\n",
       " '2',\n",
       " '100',\n",
       " '&',\n",
       " '==',\n",
       " 'service',\n",
       " 'wchar_t']"
      ]
     },
     "execution_count": 10,
     "metadata": {},
     "output_type": "execute_result"
    }
   ],
   "source": [
    "token_vocab[:20]"
   ]
  },
  {
   "cell_type": "code",
   "execution_count": 11,
   "id": "823626fb-6b52-4b69-a387-f45541baa071",
   "metadata": {},
   "outputs": [
    {
     "data": {
      "text/plain": [
       "(65, 1123)"
      ]
     },
     "execution_count": 11,
     "metadata": {},
     "output_type": "execute_result"
    }
   ],
   "source": [
    "import statistics\n",
    "statistics.median(counter_lengths.most_common())"
   ]
  },
  {
   "cell_type": "code",
   "execution_count": 12,
   "id": "173e0746-75f0-42f8-bb67-4abe1b830d65",
   "metadata": {},
   "outputs": [
    {
     "data": {
      "text/plain": [
       "[(3, 605609),\n",
       " (1, 520353),\n",
       " (4, 462528),\n",
       " (6, 258473),\n",
       " (8, 243558),\n",
       " (10, 207853),\n",
       " (5, 203237),\n",
       " (2, 181914),\n",
       " (7, 125999),\n",
       " (9, 75585),\n",
       " (15, 65791),\n",
       " (14, 65604),\n",
       " (25, 56071),\n",
       " (19, 53416),\n",
       " (12, 51240),\n",
       " (13, 34602),\n",
       " (11, 28514),\n",
       " (18, 27770),\n",
       " (16, 26299),\n",
       " (31, 17605),\n",
       " (17, 15828),\n",
       " (20, 9954),\n",
       " (22, 7956),\n",
       " (27, 5599),\n",
       " (24, 5535),\n",
       " (28, 4976),\n",
       " (21, 4327),\n",
       " (32, 3462),\n",
       " (23, 3278),\n",
       " (37, 2012),\n",
       " (30, 1738),\n",
       " (41, 1679),\n",
       " (26, 1504),\n",
       " (52, 1366),\n",
       " (34, 1185),\n",
       " (65, 1123),\n",
       " (29, 1105),\n",
       " (36, 1094),\n",
       " (43, 1053),\n",
       " (40, 892),\n",
       " (44, 809),\n",
       " (33, 805),\n",
       " (42, 782),\n",
       " (68, 774),\n",
       " (76, 770),\n",
       " (392, 756),\n",
       " (116, 756),\n",
       " (104, 756),\n",
       " (47, 615),\n",
       " (51, 590),\n",
       " (35, 589),\n",
       " (39, 535),\n",
       " (38, 461),\n",
       " (45, 457),\n",
       " (87, 449),\n",
       " (50, 403),\n",
       " (48, 399),\n",
       " (63, 375),\n",
       " (61, 351),\n",
       " (57, 301),\n",
       " (86, 252),\n",
       " (58, 235),\n",
       " (62, 231),\n",
       " (60, 227),\n",
       " (67, 213),\n",
       " (46, 153),\n",
       " (69, 132),\n",
       " (55, 118),\n",
       " (49, 116),\n",
       " (122, 110),\n",
       " (764, 100),\n",
       " (64, 97),\n",
       " (1785, 95),\n",
       " (66, 94),\n",
       " (75, 94),\n",
       " (83, 90),\n",
       " (72, 80),\n",
       " (1099, 80),\n",
       " (99, 69),\n",
       " (74, 65),\n",
       " (71, 63),\n",
       " (165, 44),\n",
       " (233, 42),\n",
       " (95, 40),\n",
       " (53, 37),\n",
       " (154, 36),\n",
       " (84, 35),\n",
       " (70, 33),\n",
       " (397, 32),\n",
       " (79, 30),\n",
       " (59, 23),\n",
       " (109, 20),\n",
       " (77, 20),\n",
       " (162, 18),\n",
       " (365, 16),\n",
       " (333, 16),\n",
       " (156, 16),\n",
       " (54, 14),\n",
       " (78, 14),\n",
       " (56, 14),\n",
       " (204, 14),\n",
       " (102, 12),\n",
       " (105, 11),\n",
       " (81, 11),\n",
       " (108, 10),\n",
       " (359, 10),\n",
       " (93, 10),\n",
       " (471, 8),\n",
       " (135, 7),\n",
       " (103, 7),\n",
       " (127, 6),\n",
       " (90, 6),\n",
       " (88, 6),\n",
       " (101, 6),\n",
       " (96, 5),\n",
       " (91, 5),\n",
       " (97, 5),\n",
       " (92, 5),\n",
       " (143, 4),\n",
       " (131, 4),\n",
       " (191, 4),\n",
       " (110, 4),\n",
       " (159, 4),\n",
       " (163, 3),\n",
       " (117, 2),\n",
       " (166, 2),\n",
       " (160, 2),\n",
       " (151, 2),\n",
       " (358, 1)]"
      ]
     },
     "execution_count": 12,
     "metadata": {},
     "output_type": "execute_result"
    }
   ],
   "source": [
    "counter_lengths.most_common()"
   ]
  },
  {
   "cell_type": "code",
   "execution_count": 13,
   "id": "6a8867ad-bcc1-4827-ac75-ce610fa8e7f6",
   "metadata": {},
   "outputs": [],
   "source": [
    "MAX_CODE_LEN = 120\n",
    "token_list = [\"<PAD>\", \"<UNK>\"] + token_vocab\n",
    "token_dict = {token_list[i]:i for i in range(len(token_list))}"
   ]
  },
  {
   "cell_type": "markdown",
   "id": "10134feb-7330-4ea0-aca4-aa49b961b143",
   "metadata": {},
   "source": [
    "### start processing the dataset to fit PyTorch Geometric Data\n",
    "- train: 70%\n",
    "- valid: 10%\n",
    "- test: 20%"
   ]
  },
  {
   "cell_type": "code",
   "execution_count": 17,
   "id": "9fefcee6-be58-406d-9315-c0e4cb2891f5",
   "metadata": {},
   "outputs": [],
   "source": [
    "import torch\n",
    "import random\n",
    "from torch_geometric.data import Data\n",
    "mask_pool = [0,0,0,0,0,0,0,1,2,2] # 0: train, 1: valid, 2: test"
   ]
  },
  {
   "cell_type": "code",
   "execution_count": 18,
   "id": "36c38040-12d3-40ae-a52f-f366e0211210",
   "metadata": {},
   "outputs": [
    {
     "name": "stdout",
     "output_type": "stream",
     "text": [
      "# processing 413461/413462"
     ]
    }
   ],
   "source": [
    "data_list = []\n",
    "for p in dt:\n",
    "    print(\"\\r# processing {}/{}\".format(len(data_list), len(dt)), end=\"\")\n",
    "    dlabel, (dgraph, dtarget) = p\n",
    "    dtarget_index = dgraph.vs[\"name\"].index(dtarget)\n",
    "    # construct edge matrix\n",
    "    edge_index_from = []\n",
    "    edge_index_to = []\n",
    "    for q in dgraph.es:\n",
    "        edge_index_from.append(q.source)\n",
    "        edge_index_to.append(q.target)\n",
    "    # construct feature matrix (x)\n",
    "    feature_x = []\n",
    "    for q in dgraph.vs['code']:\n",
    "        tmp_s = q.split(' ') + [\"<PAD>\" for _ in range(MAX_CODE_LEN)]\n",
    "        tmp_i = [\n",
    "            token_dict[r] if r in token_dict.keys() else token_dict[\"<UNK>\"]\n",
    "            for r in tmp_s[:MAX_CODE_LEN]\n",
    "        ]\n",
    "        feature_x.append(tmp_i)\n",
    "    # construct mask\n",
    "    # only include the target node, others will be masked out for all mask types\n",
    "    mtype = random.choice(mask_pool)\n",
    "    train_mask = [False for _ in range(len(dgraph.vs))]\n",
    "    val_mask = [False for _ in range(len(dgraph.vs))]\n",
    "    test_mask = [False for _ in range(len(dgraph.vs))]\n",
    "    # literally all nodes from one graph follows the label of the target node\n",
    "    label_y = [1 if dlabel else 0 for _ in range(len(dgraph.vs))]\n",
    "    if mtype==0:\n",
    "        # train\n",
    "        train_mask[dtarget_index] = True\n",
    "    elif mtype==1:\n",
    "        # valid\n",
    "        val_mask[dtarget_index] = True\n",
    "    elif mtype==2:\n",
    "        # test\n",
    "        test_mask[dtarget_index] = True\n",
    "    else:\n",
    "        # how did you get here?\n",
    "        raise Exception(\"How did you get here?\")\n",
    "    # then construct Data\n",
    "    tmp_data = Data(\n",
    "        # x=torch.tensor(feature_x, dtype=torch.long),\n",
    "        x=torch.tensor(feature_x, dtype=torch.float),\n",
    "        y=torch.tensor(label_y, dtype=torch.long),\n",
    "        edge_index=torch.tensor([edge_index_from, edge_index_to], dtype=torch.long),\n",
    "        train_mask=torch.tensor(train_mask, dtype=torch.bool),\n",
    "        val_mask=torch.tensor(val_mask, dtype=torch.bool),\n",
    "        test_mask=torch.tensor(test_mask, dtype=torch.bool),\n",
    "    )\n",
    "    data_list.append(tmp_data)\n",
    "    "
   ]
  },
  {
   "cell_type": "code",
   "execution_count": 19,
   "id": "890947fd-87a9-483e-9d64-3cdbd9cc7425",
   "metadata": {},
   "outputs": [],
   "source": [
    "with open(\"./SySeVR_GraphDataset_e3.pkl\", \"wb\") as f:\n",
    "    pickle.dump(data_list, f)"
   ]
  },
  {
   "cell_type": "code",
   "execution_count": null,
   "id": "ef79c872-b353-4801-be10-7821c4780610",
   "metadata": {},
   "outputs": [],
   "source": []
  }
 ],
 "metadata": {
  "kernelspec": {
   "display_name": "Python 3",
   "language": "python",
   "name": "python3"
  },
  "language_info": {
   "codemirror_mode": {
    "name": "ipython",
    "version": 3
   },
   "file_extension": ".py",
   "mimetype": "text/x-python",
   "name": "python",
   "nbconvert_exporter": "python",
   "pygments_lexer": "ipython3",
   "version": "3.8.8"
  }
 },
 "nbformat": 4,
 "nbformat_minor": 5
}
