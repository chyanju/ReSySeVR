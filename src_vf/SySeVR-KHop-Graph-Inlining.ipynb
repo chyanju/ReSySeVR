{
 "cells": [
  {
   "cell_type": "markdown",
   "id": "b5e52558-81a7-4a11-bdf5-7e2eb11923e3",
   "metadata": {},
   "source": [
    "### extend the prgram dependency graph to k-hop inter procedural call"
   ]
  },
  {
   "cell_type": "code",
   "execution_count": 1,
   "id": "b28396bd-b488-437f-b232-0aeeb5f93c0a",
   "metadata": {},
   "outputs": [],
   "source": [
    "# specify how many hops you want to extend the current graph to\n",
    "# 0 means no extension\n",
    "khop = 1"
   ]
  },
  {
   "cell_type": "code",
   "execution_count": 2,
   "id": "1f25d7ce-80ea-491b-94e9-06ea5fcf7805",
   "metadata": {},
   "outputs": [],
   "source": [
    "import pickle\n",
    "import re\n",
    "from igraph import *\n",
    "\n",
    "def append_to_graph(g0, g1, conns=None):\n",
    "    # append a graph to another graph\n",
    "    # by provided connection: (original node id, new node id)\n",
    "    g = Graph()\n",
    "    nv0 = len(g0.vs)\n",
    "    nv1 = len(g1.vs)\n",
    "    # add vertices\n",
    "    g.add_vertices([i for i in range(nv0+nv1)])\n",
    "    # copy attributes\n",
    "    for i in range(nv0):\n",
    "        for dkey in g0.vs[i].attributes().keys():\n",
    "            g.vs[i][dkey] = g0.vs[i][dkey]\n",
    "    for i in range(nv1):\n",
    "        for dkey in g1.vs[i].attributes().keys():\n",
    "            g.vs[i+nv0][dkey] = g1.vs[i][dkey]\n",
    "    # add edges\n",
    "    for e in g0.es:\n",
    "        g.add_edges([e.tuple])\n",
    "    for e in g1.es:\n",
    "        # ascend the index\n",
    "        g.add_edges([ tuple([e0+nv0 for e0 in e.tuple]) ])\n",
    "    # add the connection\n",
    "    if conns is not None:\n",
    "        for c in conns:\n",
    "            g.add_edges([ tuple([c[0], c[1]+nv0]) ])\n",
    "    return g\n",
    "\n",
    "def find_function_node(g0):\n",
    "    # return the id of function node of a graph\n",
    "    ids = []\n",
    "    for dv in g0.vs:\n",
    "        if dv[\"type\"] == \"Function\":\n",
    "            ids.append(dv.index)\n",
    "    assert len(ids) == 1\n",
    "    return ids[0]\n",
    "\n",
    "def rec_extend_graph(arg_folder, arg_file, arg_k, arg_verbose=False):\n",
    "    if arg_k <= 0:\n",
    "        # no need to extend\n",
    "        return arg_file\n",
    "    \n",
    "    file_list = list(arg_folder.keys())\n",
    "    # print(\"file_list: {}\".format(file_list))\n",
    "    \n",
    "    dgraph = arg_file\n",
    "    d_exgraphs = [] # external graphs that should be connected\n",
    "    d_conns = [] # connection tuples corresponding to external graphs\n",
    "    # explore methods called\n",
    "    for dv in dgraph.vs:\n",
    "        if dv[\"type\"] == \"Function\":\n",
    "            # skip function signature node\n",
    "            continue\n",
    "        if \"print\" in dv[\"code\"]:\n",
    "            # skip print operation\n",
    "            continue\n",
    "        dcalls = re.findall(r\"(.*?)\\(\", dv[\"code\"])\n",
    "        dcalls = [p.strip() for p in dcalls]\n",
    "        dcalls = [p for p in dcalls if len(p)>0]\n",
    "        dfiles = []\n",
    "        # match method name with file name(s)\n",
    "        for dc in dcalls:\n",
    "            mfiles = []\n",
    "            for df in file_list:\n",
    "                # if dc in df:\n",
    "                if dc == df.rsplit(\"_\", 1)[0]:\n",
    "                    mfiles.append(df)\n",
    "            # fixme: if there are multiple matches, pick the shortest one\n",
    "            if len(mfiles)>0:\n",
    "                if arg_verbose:\n",
    "                    print(\"# ({}) matched {} to {}\".format(len(mfiles), dc, min(mfiles, key=len)))\n",
    "                dfiles.append(min(mfiles, key=len))\n",
    "            else:\n",
    "                # fixme: can't find matched files, should log out errors/warnings\n",
    "                if arg_verbose:\n",
    "                    print(\"# can't find matching file for method: {}, skip\".format(dc))\n",
    "                pass\n",
    "        # then append the external graphs and corresponding connections\n",
    "        for df in dfiles:\n",
    "            # detect whether the graph is empty or not before adding\n",
    "            if arg_folder[df].vs is None:\n",
    "                continue\n",
    "            if len(arg_folder[df].vs) == 0:\n",
    "                continue\n",
    "#             if arg_verbose:\n",
    "#                 print(\"# adding external graph: {}\".format(df))\n",
    "            if arg_k == 1:\n",
    "                # end of k-hop, just append\n",
    "                d_exgraphs.append(arg_folder[df])\n",
    "            else:\n",
    "                # extend k-hop\n",
    "                kgraph = rec_extend_graph(arg_folder, arg_folder[df], arg_k-1)\n",
    "                d_exgraphs.append(kgraph)\n",
    "            # note: the first vertex is not always the function node, so we need to find it out\n",
    "            d_conns.append((dv.index, find_function_node(arg_folder[df])))\n",
    "    # then compose the final graph\n",
    "    ret_graph = dgraph\n",
    "    for i in range(len(d_exgraphs)):\n",
    "#         if arg_verbose:\n",
    "#             print(\"# merging external graph: {}\".format(i))\n",
    "        ret_graph = append_to_graph(ret_graph, d_exgraphs[i], [d_conns[i]])\n",
    "    \n",
    "    return ret_graph"
   ]
  },
  {
   "cell_type": "code",
   "execution_count": 49,
   "id": "c8d4bca5-8982-4991-b868-27e25424c60d",
   "metadata": {},
   "outputs": [],
   "source": [
    "curr_dir = \"014\"\n",
    "with open(\"../SARD_pkl/pdg_db_dir{}.pkl\".format(curr_dir), \"rb\") as f:\n",
    "    dt = pickle.load(f)"
   ]
  },
  {
   "cell_type": "code",
   "execution_count": 50,
   "id": "f3258b10-6183-4fd8-955b-6feb6a877543",
   "metadata": {},
   "outputs": [
    {
     "name": "stdout",
     "output_type": "stream",
     "text": [
      "# processing 999/1000"
     ]
    }
   ],
   "source": [
    "# start extending the graph to k-hop\n",
    "new_dt = {}\n",
    "for dfolder in dt.keys():\n",
    "    # print(\"# processing folder: {}\".format(dfolder))\n",
    "    print(\"\\r# processing {}/{}\".format(len(new_dt.keys()), len(dt.keys())), end=\"\")\n",
    "    new_dt[dfolder] = {}\n",
    "    for dfile in dt[dfolder].keys():\n",
    "        new_dt[dfolder][dfile] = rec_extend_graph(dt[dfolder], dt[dfolder][dfile], khop, arg_verbose=False)"
   ]
  },
  {
   "cell_type": "code",
   "execution_count": 51,
   "id": "b3bc65de-3894-4961-9472-0e599d935bb4",
   "metadata": {},
   "outputs": [],
   "source": [
    "with open(\"../SARD_pkl/pdg_db_dir{}_{}hop.pkl\".format(curr_dir, khop), \"wb\") as f:\n",
    "    pickle.dump(new_dt, f)"
   ]
  },
  {
   "cell_type": "code",
   "execution_count": 27,
   "id": "0cf6f056-a3ea-43cd-a21a-0e63a2102cfb",
   "metadata": {},
   "outputs": [],
   "source": [
    "# gg = rec_extend_graph(dt[\"120808\"], dt[\"120808\"][\"main_383036\"], 4, arg_verbose=True)"
   ]
  },
  {
   "cell_type": "code",
   "execution_count": 109,
   "id": "36133d0b-7a3e-4723-b0a1-2c4bf4d547ee",
   "metadata": {},
   "outputs": [],
   "source": [
    "# len(gg.vs)"
   ]
  },
  {
   "cell_type": "code",
   "execution_count": 110,
   "id": "916b83bd-af2a-4474-92c4-c0c02264fedf",
   "metadata": {},
   "outputs": [],
   "source": [
    "# for p in gg.vs:\n",
    "#     p[\"label_size\"]=10\n",
    "# visual_style = {}\n",
    "# visual_style[\"margin\"]=40\n",
    "# visual_style[\"bbox\"]=(600,400)\n",
    "# visual_style[\"vertex_label\"] = [\n",
    "#     \"{} \\n {}\".format(gg.vs[\"name\"][i], gg.vs[\"code\"][i]) \n",
    "#     for i in range(len(gg.vs[\"code\"]))\n",
    "# ]\n",
    "# plot(gg, **visual_style)"
   ]
  },
  {
   "cell_type": "code",
   "execution_count": null,
   "id": "9db6f2cc-7c90-40d3-bef9-7c6998bee316",
   "metadata": {},
   "outputs": [],
   "source": []
  }
 ],
 "metadata": {
  "kernelspec": {
   "display_name": "Python 3",
   "language": "python",
   "name": "python3"
  },
  "language_info": {
   "codemirror_mode": {
    "name": "ipython",
    "version": 3
   },
   "file_extension": ".py",
   "mimetype": "text/x-python",
   "name": "python",
   "nbconvert_exporter": "python",
   "pygments_lexer": "ipython3",
   "version": "3.8.8"
  }
 },
 "nbformat": 4,
 "nbformat_minor": 5
}
